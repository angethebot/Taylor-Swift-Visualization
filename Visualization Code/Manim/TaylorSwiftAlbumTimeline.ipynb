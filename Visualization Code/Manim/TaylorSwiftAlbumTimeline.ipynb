{
 "cells": [
  {
   "cell_type": "code",
   "execution_count": 3,
   "id": "ebeaeeb3-ae57-42ca-a2ea-9fc9d2dbce98",
   "metadata": {},
   "outputs": [
    {
     "name": "stderr",
     "output_type": "stream",
     "text": [
      "                                                                                                                   \r"
     ]
    },
    {
     "data": {
      "text/html": [
       "<video src=\"media/jupyter/TaylorSwiftTimeline@2025-04-14@13-44-54.mp4\" controls autoplay loop style=\"max-width: 60%;\"  >\n",
       "      Your browser does not support the <code>video</code> element.\n",
       "    </video>"
      ],
      "text/plain": [
       "<IPython.core.display.Video object>"
      ]
     },
     "metadata": {},
     "output_type": "display_data"
    }
   ],
   "source": [
    "from manim import *\n",
    "\n",
    "class TaylorSwiftTimeline(Scene):\n",
    "    def construct(self):\n",
    "        # Title\n",
    "        title = Text(\"Taylor Swift Album Timeline\", font_size=48)\n",
    "        self.play(Write(title))\n",
    "        self.wait(1)\n",
    "        self.play(title.animate.to_edge(UP))\n",
    "\n",
    "        # Album data\n",
    "        albums = [\n",
    "            (\"Taylor Swift\", 2006),\n",
    "            (\"Fearless\", 2008),\n",
    "            (\"Speak Now\", 2010),\n",
    "            (\"Red\", 2012),\n",
    "            (\"1989\", 2014),\n",
    "            (\"Reputation\", 2017),\n",
    "            (\"Lover\", 2019),\n",
    "            (\"Folklore\", 2020),\n",
    "            (\"Evermore\", 2020),\n",
    "            (\"Midnights\", 2022)\n",
    "        ]\n",
    "\n",
    "        # Create dots on a timeline\n",
    "        dots = VGroup()\n",
    "        labels = VGroup()\n",
    "\n",
    "        for i, (album, year) in enumerate(albums):\n",
    "            x = i * 1.5 - 6  # Position on X-axis\n",
    "            dot = Dot(point=[x, 0, 0], color=BLUE)\n",
    "            label = Text(f\"{album}\\n({year})\", font_size=24).next_to(dot, UP)\n",
    "            dots.add(dot)\n",
    "            labels.add(label)\n",
    "\n",
    "        self.play(LaggedStartMap(GrowFromCenter, dots), run_time=2)\n",
    "        self.play(LaggedStartMap(FadeIn, labels), run_time=3)\n",
    "        self.wait(2)\n",
    "\n",
    "        # Zoom in on a specific album\n",
    "        focus = SurroundingRectangle(labels[4], color=YELLOW)\n",
    "        self.play(Create(focus))\n",
    "        self.wait(1)\n",
    "        self.play(Uncreate(focus))\n",
    "\n",
    "        self.play(*[FadeOut(mob) for mob in [dots, labels, title]])\n",
    "        self.wait()\n",
    "%manim -qm -v WARNING TaylorSwiftTimeline"
   ]
  },
  {
   "cell_type": "code",
   "execution_count": 1,
   "id": "efcbd79a-e99f-4cc8-9c8a-dc64ac989625",
   "metadata": {},
   "outputs": [
    {
     "data": {
      "text/html": [
       "<pre style=\"white-space:pre;overflow-x:auto;line-height:normal;font-family:Menlo,'DejaVu Sans Mono',consolas,'Courier New',monospace\">Manim Community <span style=\"color: #008000; text-decoration-color: #008000\">v0.16.0.post0</span>\n",
       "\n",
       "</pre>\n"
      ],
      "text/plain": [
       "Manim Community \u001b[32mv0.\u001b[0m\u001b[32m16.0\u001b[0m\u001b[32m.post0\u001b[0m\n",
       "\n"
      ]
     },
     "metadata": {},
     "output_type": "display_data"
    }
   ],
   "source": [
    "from manim import *\n",
    "\n",
    "class TaylorSwiftAlbumTimeline(Scene):\n",
    "    def construct(self):\n",
    "        # Parameters\n",
    "        start_year = 2006\n",
    "        end_year = 2024\n",
    "        max_sales = 40000000  # scale sales for bar length\n",
    "        timeline_height = 6   # vertical length from top to bottom\n",
    "        timeline_x = -4       # horizontal position of the timeline\n",
    "\n",
    "        # Album data (year, name, sales, hex color)\n",
    "        albums = [\n",
    "            (2006, \"Taylor Swift\", 12017000, \"#d1cfc4\"),\n",
    "            (2008, \"Fearless\", 27733000, \"#f5e4b7\"),\n",
    "            (2010, \"Speak Now\", 20124000, \"#cba3d8\"),\n",
    "            (2012, \"Red\", 27302000, \"#b11e2b\"),\n",
    "            (2014, \"1989\", 39820000, \"#cfdbe6\"),\n",
    "            (2017, \"Reputation\", 17305000, \"#1a1a1a\"),\n",
    "            (2018, \"Lover\", 20356000, \"#f7c6d9\"),\n",
    "            (2020, \"Folklore\", 16104000, \"#a8a8a8\"),\n",
    "            (2020, \"Evermore\", 9365000, \"#a0522d\"),\n",
    "            (2022, \"Midnights\", 17378000, \"#34495e\"),\n",
    "            (2024, \"The Tortured Poets Department\", 11621000, \"#a9a9a9\")\n",
    "        ]\n",
    "\n",
    "        # Create vertical timeline (arrow from top to bottom)\n",
    "        timeline = Arrow(UP * (timeline_height / 2), DOWN * (timeline_height / 2), buff=0).move_to([timeline_x, 0, 0])\n",
    "        self.play(Create(timeline))\n",
    "\n",
    "        # Year marks and labels\n",
    "        for year in range(start_year, end_year + 1):\n",
    "            # Map year to y-position\n",
    "            year_frac = (year - start_year) / (end_year - start_year)\n",
    "            y_pos = interpolate(timeline_height / 2, -timeline_height / 2, year_frac)\n",
    "            tick = Line(LEFT * 0.1, RIGHT * 0.1).move_to([timeline_x, y_pos, 0])\n",
    "            self.add(tick)\n",
    "\n",
    "            # Show label only if an album released this year\n",
    "            if any(a[0] == year for a in albums):\n",
    "                year_text = Text(str(year), font_size=24).next_to(tick, RIGHT, buff=0.15)\n",
    "                self.play(Write(year_text), run_time=0.2)\n",
    "\n",
    "        # Album animation\n",
    "        for year, name, sales, hex_color in albums:\n",
    "            year_frac = (year - start_year) / (end_year - start_year)\n",
    "            y_pos = interpolate(timeline_height / 2, -timeline_height / 2, year_frac)\n",
    "\n",
    "            # Album square\n",
    "            square = Square(side_length=0.3, fill_color=hex_color, fill_opacity=1, color=hex_color)\n",
    "            square.move_to([timeline_x + 0.5, y_pos, 0])\n",
    "            self.play(FadeIn(square), run_time=0.3)\n",
    "\n",
    "            # Sales bar\n",
    "            bar_len = (sales / max_sales) * 5\n",
    "            bar = Rectangle(height=0.15, width=bar_len, fill_color=hex_color, fill_opacity=0.8, color=hex_color)\n",
    "            bar.move_to([timeline_x + 0.5 + bar_len / 2 + 0.15, y_pos, 0])\n",
    "            self.play(GrowFromEdge(bar, edge=LEFT), run_time=0.8)\n",
    "\n",
    "            # Album label\n",
    "            label = Text(name, font_size=20).next_to(bar, RIGHT, buff=0.1).scale(0.5)\n",
    "            self.play(FadeIn(label), run_time=0.3)\n",
    "\n",
    "        self.wait(2)\n"
   ]
  },
  {
   "cell_type": "code",
   "execution_count": 2,
   "id": "b77fce96-a2a5-4468-beac-3572d9696764",
   "metadata": {},
   "outputs": [
    {
     "name": "stderr",
     "output_type": "stream",
     "text": [
      "                                                                                                  \r"
     ]
    },
    {
     "data": {
      "text/html": [
       "<video src=\"media/jupyter/TaylorSwiftAlbumTimeline@2025-04-14@19-44-08.mp4\" controls autoplay loop style=\"max-width: 60%;\"  >\n",
       "      Your browser does not support the <code>video</code> element.\n",
       "    </video>"
      ],
      "text/plain": [
       "<IPython.core.display.Video object>"
      ]
     },
     "metadata": {},
     "output_type": "display_data"
    }
   ],
   "source": [
    "%manim -qm -v WARNING TaylorSwiftAlbumTimeline"
   ]
  },
  {
   "cell_type": "code",
   "execution_count": 6,
   "id": "1beab0b8-0476-43f5-8a28-2ff6dfe4fa36",
   "metadata": {},
   "outputs": [],
   "source": [
    "from manim import *\n",
    "\n",
    "class TaylorSwiftAlbumTimeline2(Scene):\n",
    "    def construct(self):\n",
    "        # === Parameters ===\n",
    "        start_year = 2006\n",
    "        end_year = 2024\n",
    "        max_sales = 40000000\n",
    "        timeline_height = 6\n",
    "        timeline_x = -4\n",
    "        y_offset = -0.5  # Prevents overlap with title\n",
    "        self.camera.background_color = BLACK\n",
    "\n",
    "        # === Album data ===\n",
    "        albums = [\n",
    "            (2006, \"Taylor Swift\", 12017000, \"#d1cfc4\"),\n",
    "            (2008, \"Fearless\", 27733000, \"#f5e4b7\"),\n",
    "            (2010, \"Speak Now\", 20124000, \"#cba3d8\"),\n",
    "            (2012, \"Red\", 27302000, \"#b11e2b\"),\n",
    "            (2014, \"1989\", 39820000, \"#cfdbe6\"),\n",
    "            (2017, \"Reputation\", 17305000, \"#7f7f7f\"),\n",
    "            (2018, \"Lover\", 20356000, \"#f7c6d9\"),\n",
    "            (2020, \"Folklore\", 16104000, \"#a8a8a8\"),\n",
    "            (2020, \"Evermore\", 9365000, \"#a0522d\"),\n",
    "            (2022, \"Midnights\", 17378000, \"#34495e\"),\n",
    "            (2024, \"The Tortured Poets Department\", 11621000, \"#a9a9a9\")\n",
    "        ]\n",
    "\n",
    "        # === Title ===\n",
    "        title = Text(\"Album Release Year and Up-to-date Sales\", font_size=36, color= WHITE)\n",
    "        title.to_edge(UP)\n",
    "        self.play(FadeIn(title), run_time=1)\n",
    "\n",
    "        # === Timeline (white axis arrow) ===\n",
    "        timeline = Arrow(UP * (timeline_height / 2), DOWN * (timeline_height / 2), buff=0, color=WHITE)\n",
    "        timeline.shift([timeline_x, y_offset, 0])\n",
    "        self.play(Create(timeline), run_time=1.5)\n",
    "\n",
    "        y_range = end_year - start_year\n",
    "        for year, name, sales, color in albums:\n",
    "            y_pos = interpolate(timeline_height / 2, -timeline_height / 2, (year - start_year) / y_range) + y_offset\n",
    "\n",
    "            # Tick (white)\n",
    "            tick = Line(start=[timeline_x - 0.1, y_pos, 0], end=[timeline_x + 0.1, y_pos, 0], color=WHITE)\n",
    "            year_label = Text(str(year), font_size=20, color=WHITE).next_to(tick, LEFT, buff=0.15)\n",
    "\n",
    "            # Album square\n",
    "            square = Square(side_length=0.3, fill_color=color, fill_opacity=1.0, color=color)\n",
    "            square.move_to([timeline_x + 0.5, y_pos, 0])\n",
    "\n",
    "            # Sales bar\n",
    "            bar_length = (sales / max_sales) * 5\n",
    "            bar = Rectangle(height=0.15, width=bar_length, fill_color=color, fill_opacity=0.8, color=color)\n",
    "            bar.move_to(square.get_center() + RIGHT * (bar_length / 2 + 0.3))\n",
    "\n",
    "            # Album label\n",
    "            label_text = f\"{name} (${sales/1e6:.1f}M)\"\n",
    "            label = Text(label_text, font_size=20, color=WHITE).next_to(bar, RIGHT, buff=0.2).scale(1)\n",
    "\n",
    "            # Animate together\n",
    "            self.play(\n",
    "                GrowFromCenter(tick),\n",
    "                FadeIn(year_label),\n",
    "                FadeIn(square),\n",
    "                GrowFromEdge(bar, edge=LEFT),\n",
    "                FadeIn(label),\n",
    "                run_time=1\n",
    "            )\n",
    "\n",
    "        self.wait(2)\n"
   ]
  },
  {
   "cell_type": "code",
   "execution_count": 7,
   "id": "78830443-c255-47e1-86fe-a489699b84bf",
   "metadata": {},
   "outputs": [
    {
     "name": "stderr",
     "output_type": "stream",
     "text": [
      "                                                                                                           \r"
     ]
    },
    {
     "data": {
      "text/html": [
       "<video src=\"media/jupyter/TaylorSwiftAlbumTimeline2@2025-04-14@19-52-49.mp4\" controls autoplay loop style=\"max-width: 60%;\"  >\n",
       "      Your browser does not support the <code>video</code> element.\n",
       "    </video>"
      ],
      "text/plain": [
       "<IPython.core.display.Video object>"
      ]
     },
     "metadata": {},
     "output_type": "display_data"
    }
   ],
   "source": [
    "%manim -ql -v WARNING TaylorSwiftAlbumTimeline2"
   ]
  },
  {
   "cell_type": "code",
   "execution_count": 36,
   "id": "41362d8c-c54e-4078-a2ea-ab931bb06975",
   "metadata": {},
   "outputs": [],
   "source": [
    "from manim import *\n",
    "\n",
    "class TaylorSwiftAlbumTimeline3(Scene):\n",
    "    def construct(self):\n",
    "        start_year = 2006\n",
    "        end_year = 2024\n",
    "        max_sales = 40000000\n",
    "        timeline_height = 8\n",
    "        timeline_x = -4\n",
    "        y_offset = -0.5\n",
    "        self.camera.background_color = BLACK\n",
    "\n",
    "        albums = [\n",
    "            (2006, \"Taylor Swift\", 12017000, \"#d1cfc4\"),\n",
    "            (2008, \"Fearless\", 27733000, \"#f5e4b7\"),\n",
    "            (2010, \"Speak Now\", 20124000, \"#cba3d8\"),\n",
    "            (2012, \"Red\", 27302000, \"#b11e2b\"),\n",
    "            (2014, \"1989\", 39820000, \"#cfdbe6\"),\n",
    "            (2017, \"Reputation\", 17305000, \"#7f7f7f\"),\n",
    "            (2018, \"Lover\", 20356000, \"#f7c6d9\"),\n",
    "            (2020, \"Folklore\", 16104000, \"#a8a8a8\"),\n",
    "            (2020, \"Evermore\", 9365000, \"#a0522d\"),\n",
    "            (2022, \"Midnights\", 17378000, \"#34495e\"),\n",
    "            (2024, \"The Tortured Poets Department\", 11621000, \"#a9a9a9\")\n",
    "        ]\n",
    "\n",
    "        title = Text(\"Album Release Year and Up-to-date Sales\", font_size=28, gradient=(  # Gradient fill!\n",
    "        \"#d1cfc4\", \"#f5e4b7\", \"#cba3d8\", \"#b11e2b\",\n",
    "        \"#cfdbe6\", \"#7f7f7f\", \"#f7c6d9\", \"#a8a8a8\",\n",
    "        \"#a0522d\", \"#34495e\", \"#a9a9a9\"))\n",
    "        title.to_edge(UP).shift(UP * 1.5)\n",
    "        self.play(FadeIn(title), run_time=1)\n",
    "\n",
    "        timeline = Arrow(UP * (timeline_height / 2), DOWN * (timeline_height / 2), buff=0, color=WHITE)\n",
    "        timeline.shift([timeline_x, y_offset, 0])\n",
    "        self.play(Create(timeline), run_time=1.5)\n",
    "\n",
    "        y_range = end_year - start_year\n",
    "        bar_height = 0.3  # match square size\n",
    "        square_size = 0.3\n",
    "\n",
    "        used_positions = {}  # track years with multiple albums\n",
    "\n",
    "        for year, name, sales, color in albums:\n",
    "            base_y = interpolate(timeline_height / 2, -timeline_height / 2, (year - start_year) / y_range) + y_offset\n",
    "\n",
    "            # Handle offset if year already used\n",
    "            y_pos = base_y\n",
    "            if year in used_positions:\n",
    "                # Push new one slightly downward from the previous\n",
    "                y_pos = used_positions[year] - 0.35\n",
    "            used_positions[year] = y_pos\n",
    "\n",
    "            # Tick\n",
    "            tick = Line(start=[timeline_x - 0.1, y_pos, 0], end=[timeline_x + 0.1, y_pos, 0], color=WHITE)\n",
    "            year_label = Text(str(year), font_size=20, color=WHITE).next_to(tick, LEFT, buff=0.15)\n",
    "\n",
    "            # Album square\n",
    "            square = Square(side_length=square_size, fill_color=color, fill_opacity=1.0, color=color)\n",
    "            square.move_to([timeline_x + 0.5, y_pos, 0])\n",
    "\n",
    "            # Sales bar (connects directly to square)\n",
    "            bar_length = (sales / max_sales) * 5\n",
    "            bar = Rectangle(height=bar_height, width=bar_length, fill_color=color, fill_opacity=0.8, color=color)\n",
    "            bar.move_to(square.get_right() + RIGHT * (bar_length / 2))\n",
    "\n",
    "            # Album label\n",
    "            label_text = f\"{name} (${sales/1e6:.1f}M)\"\n",
    "            label = Text(label_text, font_size=20, color=color).next_to(bar, RIGHT, buff=0.2).scale(0.5)\n",
    "            \n",
    "            self.play(\n",
    "                GrowFromCenter(tick),\n",
    "                FadeIn(year_label),\n",
    "                FadeIn(square),\n",
    "                GrowFromEdge(bar, edge=LEFT),\n",
    "                FadeIn(label),\n",
    "                run_time=1\n",
    "            )\n",
    "\n",
    "        self.wait(2)\n"
   ]
  },
  {
   "cell_type": "code",
   "execution_count": 37,
   "id": "cd4d859c-4de4-49ec-84da-29d9767ba026",
   "metadata": {},
   "outputs": [
    {
     "name": "stderr",
     "output_type": "stream",
     "text": [
      "                                                                                                           \r"
     ]
    },
    {
     "data": {
      "text/html": [
       "<video src=\"media/jupyter/TaylorSwiftAlbumTimeline3@2025-04-14@20-18-35.mp4\" controls autoplay loop style=\"max-width: 60%;\"  >\n",
       "      Your browser does not support the <code>video</code> element.\n",
       "    </video>"
      ],
      "text/plain": [
       "<IPython.core.display.Video object>"
      ]
     },
     "metadata": {},
     "output_type": "display_data"
    }
   ],
   "source": [
    "%manim -ql -v WARNING -r 1920,1600 TaylorSwiftAlbumTimeline3"
   ]
  },
  {
   "cell_type": "code",
   "execution_count": 57,
   "id": "c972df06-6981-496c-bd11-c9d0a34ffe1b",
   "metadata": {},
   "outputs": [],
   "source": [
    "class TaylorSwiftAlbumTimeline4(Scene):\n",
    "    def construct(self):\n",
    "        # === General Settings ===\n",
    "        start_year = 2006\n",
    "        end_year = 2024\n",
    "        max_sales = 40000000\n",
    "        timeline_height = 8\n",
    "        timeline_x = -4\n",
    "        y_offset = -0.5\n",
    "        bar_height = 0.3\n",
    "        square_size = 0.3\n",
    "        self.camera.background_color = BLACK\n",
    "\n",
    "        # === Album Data ===\n",
    "        albums = [\n",
    "            (2006, \"Taylor Swift\", 12017000, \"#d1cfc4\"),\n",
    "            (2008, \"Fearless\", 27733000, \"#f5e4b7\"),\n",
    "            (2010, \"Speak Now\", 20124000, \"#cba3d8\"),\n",
    "            (2012, \"Red\", 27302000, \"#b11e2b\"),\n",
    "            (2014, \"1989\", 39820000, \"#cfdbe6\"),\n",
    "            (2017, \"Reputation\", 17305000, \"#7f7f7f\"),\n",
    "            (2018, \"Lover\", 20356000, \"#f7c6d9\"),\n",
    "            (2020, \"Folklore\", 16104000, \"#a8a8a8\"),\n",
    "            (2020, \"Evermore\", 9365000, \"#a0522d\"),\n",
    "            (2022, \"Midnights\", 17378000, \"#34495e\"),\n",
    "            (2024, \"The Tortured Poets Department\", 11621000, \"#a9a9a9\")\n",
    "        ]\n",
    "\n",
    "        # === Title with Gradient Glow ===\n",
    "        title = Text(\n",
    "            \"Album Release Year and Up-to-date Sales (USD)\",\n",
    "            font_size=28,\n",
    "            gradient=(\n",
    "                \"#d1cfc4\", \"#f5e4b7\", \"#cba3d8\", \"#b11e2b\",\n",
    "                \"#cfdbe6\", \"#7f7f7f\", \"#f7c6d9\", \"#a8a8a8\",\n",
    "                \"#a0522d\", \"#34495e\", \"#a9a9a9\"\n",
    "            )\n",
    "        ).to_edge(UP).shift(UP * 1.5)\n",
    "        self.play(FadeIn(title), run_time=1)\n",
    "        \n",
    "        # === Footnote ===\n",
    "        footnote = Text(\n",
    "            \"Data source: Chartmasters, including all sales from streaming, digital downloads, physical singles, compilations, and Taylor's Version\",\n",
    "            font_size=12,\n",
    "            color=GREY_C\n",
    "        ).scale(1.2).to_edge(DOWN).shift(DOWN * 1.7)\n",
    "        self.play(FadeIn(footnote), run_time=1)\n",
    "        \n",
    "        # === Timeline Axis ===\n",
    "        timeline = Arrow(\n",
    "            start=UP * (timeline_height / 2),\n",
    "            end=DOWN * (timeline_height / 2),\n",
    "            buff=0,\n",
    "            color=WHITE\n",
    "        ).shift([timeline_x, y_offset, 0])\n",
    "        self.play(Create(timeline), run_time=1.5)\n",
    "\n",
    "        # === Drawing Album Points ===\n",
    "        used_positions = {}\n",
    "        y_range = end_year - start_year\n",
    "\n",
    "        for year, name, sales, color in albums:\n",
    "            base_y = interpolate(\n",
    "                timeline_height / 2,\n",
    "                -timeline_height / 2,\n",
    "                (year - start_year) / y_range\n",
    "            ) + y_offset\n",
    "\n",
    "            # Offset if another album already in same year\n",
    "            y_pos = base_y\n",
    "            if year in used_positions:\n",
    "                y_pos = used_positions[year] - 0.35\n",
    "            used_positions[year] = y_pos\n",
    "\n",
    "            # Tick mark and year label\n",
    "            tick = Line(\n",
    "                start=[timeline_x - 0.1, y_pos, 0],\n",
    "                end=[timeline_x + 0.1, y_pos, 0],\n",
    "                color=WHITE\n",
    "            )\n",
    "            year_label = Text(str(year), font_size=20, color=WHITE).next_to(tick, LEFT, buff=0.15)\n",
    "\n",
    "            # Album square\n",
    "            square = Square(\n",
    "                side_length=square_size,\n",
    "                fill_color=color,\n",
    "                fill_opacity=1.0,\n",
    "                color=color\n",
    "            ).move_to([timeline_x + 0.5, y_pos, 0])\n",
    "\n",
    "            # Sales bar\n",
    "            bar_length = (sales / max_sales) * 5\n",
    "            bar = Rectangle(\n",
    "                height=bar_height,\n",
    "                width=bar_length,\n",
    "                fill_color=color,\n",
    "                fill_opacity=0.8,\n",
    "                color=color\n",
    "            ).move_to(square.get_right() + RIGHT * (bar_length / 2))\n",
    "\n",
    "            # Album label\n",
    "            label_text = f\"{name} (${sales/1e6:.1f}M)\"\n",
    "            label = Text(label_text, font_size=20, color=color).next_to(bar, RIGHT, buff=0.2).scale(1)\n",
    "\n",
    "            # Album image\n",
    "            image_filename = name.lower().replace(\" \", \"_\") + \".webp\"\n",
    "            try:\n",
    "                album_image = ImageMobject(image_filename).scale(0.1)\n",
    "                album_image.next_to(label, RIGHT, buff=0.2)\n",
    "            except Exception as e:\n",
    "                print(f\"Could not load image for {name}: {e}\")\n",
    "                album_image = None\n",
    "\n",
    "            # Animate all at once\n",
    "            animations = [\n",
    "                GrowFromCenter(tick),\n",
    "                FadeIn(year_label),\n",
    "                FadeIn(square),\n",
    "                GrowFromEdge(bar, edge=LEFT),\n",
    "                FadeIn(label)\n",
    "            ]\n",
    "            if album_image:\n",
    "                animations.append(FadeIn(album_image))\n",
    "\n",
    "            self.play(*animations, run_time=1)\n",
    "\n",
    "        \n",
    "\n",
    "        self.wait(2)"
   ]
  },
  {
   "cell_type": "code",
   "execution_count": 58,
   "id": "5c5c0aeb-3d42-4201-b3ab-e3aae548bc3b",
   "metadata": {},
   "outputs": [
    {
     "name": "stderr",
     "output_type": "stream",
     "text": [
      "                                                                                                                                                                                                                    \r"
     ]
    },
    {
     "data": {
      "text/html": [
       "<video src=\"media/jupyter/TaylorSwiftAlbumTimeline4@2025-04-14@20-41-35.mp4\" controls autoplay loop style=\"max-width: 60%;\"  >\n",
       "      Your browser does not support the <code>video</code> element.\n",
       "    </video>"
      ],
      "text/plain": [
       "<IPython.core.display.Video object>"
      ]
     },
     "metadata": {},
     "output_type": "display_data"
    }
   ],
   "source": [
    "%manim -ql -v WARNING -r 1920,1600 TaylorSwiftAlbumTimeline4"
   ]
  }
 ],
 "metadata": {
  "kernelspec": {
   "display_name": "Python 3",
   "language": "python",
   "name": "python3"
  },
  "language_info": {
   "codemirror_mode": {
    "name": "ipython",
    "version": 3
   },
   "file_extension": ".py",
   "mimetype": "text/x-python",
   "name": "python",
   "nbconvert_exporter": "python",
   "pygments_lexer": "ipython3",
   "version": "3.10.4"
  }
 },
 "nbformat": 4,
 "nbformat_minor": 5
}
